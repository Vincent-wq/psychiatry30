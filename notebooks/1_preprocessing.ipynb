{
 "cells": [
  {
   "attachments": {},
   "cell_type": "markdown",
   "metadata": {},
   "source": [
    "# Preprocessing of raw citation files to network format\n",
    "\n",
    "## 1. Create basic database files for citations.\n",
    "\n",
    "## 2. Getting citation networks"
   ]
  },
  {
   "cell_type": "code",
   "execution_count": 34,
   "metadata": {},
   "outputs": [],
   "source": [
    "import sys\n",
    "import os\n",
    "from pathlib import Path\n",
    "import numpy as np\n",
    "import pandas as pd\n",
    "import seaborn as sns\n",
    "import json as js\n",
    "#from openpyxl import load_workbook\n",
    "\n",
    "# project PATH\n",
    "projeect_path_str='/scratch/psychiatry30/'\n",
    "projeect_path= Path(projeect_path_str)\n",
    "\n",
    "data_path = projeect_path / 'data' \n",
    "data_types = {\"abs\": \"-ABSTRACT_RETRIEVAL-0.json\", \"cite_sum\":\"-CITATIONS_OVERVIEW-0.json\", \"cite\":\"-SCOPUS_SEARCH-1.json\", \"cite_other\":\"-SCOPUS_SEARCH-2.json\"}\n",
    "\n",
    "paper_db = pd.DataFrame()  # paper_id, year, first_author_country, last_author_country, language, keywords_list\n",
    "paper_abs_db = pd.DataFrame()  # paper_id, year, title, keywords_list, abstract.\n",
    "author_db = pd.DataFrame() # auth_id, year, city, country, num_ffiliations, affiliations_list,\n",
    "affiliation_db = pd.DataFrame() # afid, affil_name, affil_city, affil_country\n",
    "raw_citation_db = pd.DataFrame() # paper_id, cited_paper_id, year \n",
    "\n"
   ]
  },
  {
   "cell_type": "code",
   "execution_count": 58,
   "metadata": {},
   "outputs": [],
   "source": [
    "import json\n",
    "\n",
    "data_current_year=\"1990\"\n",
    "data_dir = data_path / data_current_year\n",
    "data_type_selected=list(data_types.keys())[2]\n",
    "\n",
    "paper_list=os.listdir(data_dir)\n",
    "papers_dict={data_current_year:{}}\n",
    "\n",
    "for _paper_index in paper_list:\n",
    "    _file_to_load=str(data_dir / _paper_index / (_paper_index+data_types[data_type_selected]))\n",
    "    with open(_file_to_load, 'r') as openfile:\n",
    "        # Reading from json file\n",
    "        #print(_file_to_load)\n",
    "        papers_dict[data_current_year][_paper_index]={}\n",
    "        papers_dict[data_current_year][_paper_index][data_type_selected]=json.load(openfile)\n",
    "        \n"
   ]
  },
  {
   "cell_type": "code",
   "execution_count": 59,
   "metadata": {},
   "outputs": [
    {
     "data": {
      "text/plain": [
       "dict_keys(['@_fa', 'prism:url', 'dc:identifier', 'eid', 'dc:title', 'dc:creator', 'prism:coverDate', 'citedby-count', 'affiliation', 'subtype', 'subtypeDescription'])"
      ]
     },
     "execution_count": 59,
     "metadata": {},
     "output_type": "execute_result"
    }
   ],
   "source": [
    "papers_dict[data_current_year][_paper_index][data_type_selected]['search-results']['entry'][0].keys()\n",
    "# 'search-results': dict_keys(['opensearch:totalResults', 'opensearch:itemsPerPage', 'opensearch:Query', 'cursor', 'link', 'entry'])\n",
    "# 'entry':          dict_keys(['@_fa', 'prism:url', 'dc:identifier', 'eid', 'dc:title', 'dc:creator', 'prism:coverDate', 'citedby-count', 'affiliation', 'subtype', 'subtypeDescription'])\n"
   ]
  },
  {
   "cell_type": "code",
   "execution_count": 65,
   "metadata": {},
   "outputs": [
    {
     "data": {
      "text/plain": [
       "{'@_fa': 'true',\n",
       " 'prism:url': 'https://api.elsevier.com/content/abstract/scopus_id/85134521630',\n",
       " 'dc:identifier': 'SCOPUS_ID:85134521630',\n",
       " 'eid': '2-s2.0-85134521630',\n",
       " 'dc:title': 'β-Glucosidases as dominant dose-dependent regulators of Oryza sativa L. in response to typical organic pollutant exposures',\n",
       " 'dc:creator': 'Shao Z.',\n",
       " 'prism:coverDate': '2022-09-15',\n",
       " 'citedby-count': '0',\n",
       " 'affiliation': [{'@_fa': 'true',\n",
       "   'affiliation-url': 'https://api.elsevier.com/content/affiliation/affiliation_id/60117779',\n",
       "   'afid': '60117779',\n",
       "   'affilname': 'College of Environmental and Resource Sciences',\n",
       "   'affiliation-city': 'Hangzhou',\n",
       "   'affiliation-country': 'China'},\n",
       "  {'@_fa': 'true',\n",
       "   'affiliation-url': 'https://api.elsevier.com/content/affiliation/affiliation_id/111015431',\n",
       "   'afid': '111015431',\n",
       "   'affilname': 'Zhejiang Provincial Key Laboratory of Organic Pollution Process and Control',\n",
       "   'affiliation-city': 'Hangzhou',\n",
       "   'affiliation-country': 'China'}],\n",
       " 'subtype': 'ar',\n",
       " 'subtypeDescription': 'Article'}"
      ]
     },
     "execution_count": 65,
     "metadata": {},
     "output_type": "execute_result"
    }
   ],
   "source": [
    "papers_dict[data_current_year][_paper_index][data_type_selected]['search-results']['entry'][1]"
   ]
  },
  {
   "cell_type": "code",
   "execution_count": null,
   "metadata": {},
   "outputs": [],
   "source": []
  }
 ],
 "metadata": {
  "kernelspec": {
   "display_name": "base",
   "language": "python",
   "name": "python3"
  },
  "language_info": {
   "codemirror_mode": {
    "name": "ipython",
    "version": 3
   },
   "file_extension": ".py",
   "mimetype": "text/x-python",
   "name": "python",
   "nbconvert_exporter": "python",
   "pygments_lexer": "ipython3",
   "version": "3.9.12"
  },
  "orig_nbformat": 4,
  "vscode": {
   "interpreter": {
    "hash": "d4d1e4263499bec80672ea0156c357c1ee493ec2b1c70f0acce89fc37c4a6abe"
   }
  }
 },
 "nbformat": 4,
 "nbformat_minor": 2
}
